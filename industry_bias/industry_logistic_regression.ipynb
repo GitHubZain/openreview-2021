{
 "cells": [
  {
   "cell_type": "code",
   "execution_count": 1,
   "metadata": {},
   "outputs": [],
   "source": [
    "import numpy as np\n",
    "import pandas as pd\n",
    "import matplotlib.pyplot as plt\n",
    "import statsmodels.api as sm\n",
    "from sklearn.linear_model import LogisticRegression\n",
    "from sklearn.model_selection import train_test_split\n",
    "from sklearn import metrics"
   ]
  },
  {
   "cell_type": "code",
   "execution_count": 2,
   "metadata": {},
   "outputs": [],
   "source": [
    "data = pd.read_csv('../openreview.csv')\n",
    "decision_to_binary = {'Accept (Poster)': 1, 'Accept (Oral)': 1, 'Accept (Talk)': 1, 'Accept (Spotlight)': 1, 'Invite to Workshop Track': 0, 'Withdrawn': 0, 'Reject': 0}"
   ]
  },
  {
   "cell_type": "code",
   "execution_count": 3,
   "metadata": {},
   "outputs": [],
   "source": [
    "def logistic_regression():\n",
    "    scores=[]\n",
    "    google_indicator=[]\n",
    "    microsoft_indicator=[]\n",
    "    facebook_indicator=[]\n",
    "    target=[]\n",
    "    count = 0\n",
    "    for ratings, decision, institution, year in zip(data['ratings'], data['decisions'], data['institution'], data['year']):\n",
    "        if pd.notnull(institution) and pd.notnull(ratings) and year == 2021:\n",
    "\n",
    "            rates = ratings.split(';')\n",
    "            rates=[int(x) for x in rates]\n",
    "            rating_avg = np.average(rates)\n",
    "\n",
    "            institutions = institution.split(';')\n",
    "            institution_set = set(institutions)\n",
    "\n",
    "            binary_decision=decision_to_binary.get(decision)\n",
    "\n",
    "            for inst in institution_set:\n",
    "                scores.append(rating_avg)\n",
    "                target.append(binary_decision)\n",
    "\n",
    "                if 'Google' in inst or 'Deepmind' in inst or 'Deep Mind' in inst:\n",
    "                    google_indicator.append(1)\n",
    "                    facebook_indicator.append(0)\n",
    "                    microsoft_indicator.append(0)\n",
    "                elif 'Facebook' in inst:\n",
    "                    google_indicator.append(0)\n",
    "                    facebook_indicator.append(1)\n",
    "                    microsoft_indicator.append(0)\n",
    "                elif 'Microsoft' in inst:\n",
    "                    google_indicator.append(0)\n",
    "                    facebook_indicator.append(0)\n",
    "                    microsoft_indicator.append(1)\n",
    "                else:\n",
    "                    google_indicator.append(0)\n",
    "                    facebook_indicator.append(0)\n",
    "                    microsoft_indicator.append(0)\n",
    "    \n",
    "    x = pd.DataFrame()\n",
    "    #x['mean reviewer score'] = scores\n",
    "    x['google'] = google_indicator\n",
    "    x['microsoft'] = microsoft_indicator\n",
    "    x['facebook'] = facebook_indicator\n",
    "    x['constant'] = [1]*len(scores)\n",
    "\n",
    "    print(np.sum(google_indicator), np.sum(facebook_indicator), np.sum(microsoft_indicator))\n",
    "    y=np.array(target)\n",
    "\n",
    "    logit_model = sm.Logit(y, x)\n",
    "    summary = logit_model.fit().summary()\n",
    "\n",
    "    x_train, x_test, y_train, y_test = train_test_split(x, y, test_size=.3, random_state=0)\n",
    "    logisticRegr = LogisticRegression(random_state=0)\n",
    "    model = logisticRegr.fit(x_train, y_train)\n",
    "    accuracy = logisticRegr.score(x_test, y_test)\n",
    "    \n",
    "    print('Count: ',count)\n",
    "    return summary, accuracy"
   ]
  },
  {
   "cell_type": "code",
   "execution_count": 4,
   "metadata": {},
   "outputs": [
    {
     "name": "stdout",
     "output_type": "stream",
     "text": [
      "354 151 158\n",
      "Optimization terminated successfully.\n",
      "         Current function value: 0.611902\n",
      "         Iterations 5\n",
      "Count:  0\n",
      "                           Logit Regression Results                           \n",
      "==============================================================================\n",
      "Dep. Variable:                      y   No. Observations:                 8116\n",
      "Model:                          Logit   Df Residuals:                     8112\n",
      "Method:                           MLE   Df Model:                            3\n",
      "Date:                Sat, 02 Oct 2021   Pseudo R-squ.:                0.005042\n",
      "Time:                        11:13:53   Log-Likelihood:                -4966.2\n",
      "converged:                       True   LL-Null:                       -4991.4\n",
      "Covariance Type:            nonrobust   LLR p-value:                 6.775e-11\n",
      "==============================================================================\n",
      "                 coef    std err          z      P>|z|      [0.025      0.975]\n",
      "------------------------------------------------------------------------------\n",
      "google         0.7050      0.110      6.428      0.000       0.490       0.920\n",
      "microsoft      0.3573      0.166      2.147      0.032       0.031       0.683\n",
      "facebook       0.4859      0.168      2.896      0.004       0.157       0.815\n",
      "constant      -0.8749      0.025    -34.418      0.000      -0.925      -0.825\n",
      "==============================================================================\n",
      "Accuracy:  0.6965092402464066\n"
     ]
    }
   ],
   "source": [
    "summary, score = logistic_regression()\n",
    "print(summary)\n",
    "print('Accuracy: ', score)"
   ]
  }
 ],
 "metadata": {
  "interpreter": {
   "hash": "aee8b7b246df8f9039afb4144a1f6fd8d2ca17a180786b69acc140d282b71a49"
  },
  "kernelspec": {
   "display_name": "Python 3.9.1 64-bit",
   "name": "python3"
  },
  "language_info": {
   "codemirror_mode": {
    "name": "ipython",
    "version": 3
   },
   "file_extension": ".py",
   "mimetype": "text/x-python",
   "name": "python",
   "nbconvert_exporter": "python",
   "pygments_lexer": "ipython3",
   "version": "3.9.1"
  },
  "orig_nbformat": 4
 },
 "nbformat": 4,
 "nbformat_minor": 2
}
