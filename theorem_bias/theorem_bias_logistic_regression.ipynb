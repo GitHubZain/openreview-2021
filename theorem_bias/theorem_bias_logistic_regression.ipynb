{
 "cells": [
  {
   "cell_type": "code",
   "execution_count": 1,
   "metadata": {},
   "outputs": [],
   "source": [
    "import numpy as np\n",
    "from sklearn.linear_model import LogisticRegression\n",
    "import pandas as pd\n",
    "from sklearn.model_selection import train_test_split\n",
    "import statsmodels.api as sm"
   ]
  },
  {
   "cell_type": "code",
   "execution_count": 2,
   "metadata": {},
   "outputs": [],
   "source": [
    "data = pd.read_csv('../openreview.csv')\n",
    "binary_decisions = {'Accept (Oral)':1, 'Accept (Poster)':1, 'Accept (Spotlight)':1, 'Accept (Talk)':1, 'Withdrawn':0, 'Reject':0, 'Invite to Workshop Track':0}"
   ]
  },
  {
   "cell_type": "code",
   "execution_count": 3,
   "metadata": {},
   "outputs": [],
   "source": [
    "def logistic_regression():\n",
    "    scores =[]\n",
    "    theorem_indicator=[]\n",
    "    target=[]\n",
    "\n",
    "    for rating, decision, theorem, in zip(data['ratings'], data['decisions'], data['theorem']):\n",
    "        if theorem == 'pdf miss':\n",
    "            continue\n",
    "        if theorem =='y':\n",
    "            theorem_indicator.append(1)\n",
    "        else:\n",
    "            theorem_indicator.append(0)\n",
    "\n",
    "        avg_rating=0\n",
    "        for i in rating.split(';'):\n",
    "            avg_rating += int(i)\n",
    "        scores.append(avg_rating/len(rating.split(';')))\n",
    "\n",
    "        target.append(binary_decisions[decision])\n",
    "\n",
    "    x=pd.DataFrame()\n",
    "    x['mean reviewer score']=scores\n",
    "    x['theorem']=theorem_indicator\n",
    "    x['constant']=[1]*len(scores)\n",
    "    y=np.array(target)\n",
    "\n",
    "    logit_model = sm.Logit(y, x)\n",
    "    summary = logit_model.fit().summary()\n",
    "\n",
    "    x_train, x_test, y_train, y_test = train_test_split(x, y, test_size=.3, random_state=0)\n",
    "    logisticRegr = LogisticRegression(random_state=0)\n",
    "    model = logisticRegr.fit(x_train, y_train)\n",
    "    accuracy = logisticRegr.score(x_test, y_test)\n",
    "\n",
    "    return summary, accuracy"
   ]
  },
  {
   "cell_type": "code",
   "execution_count": 6,
   "metadata": {},
   "outputs": [
    {
     "name": "stdout",
     "output_type": "stream",
     "text": [
      "Optimization terminated successfully.\n",
      "         Current function value: 0.245878\n",
      "         Iterations 9\n",
      "No theorem:  [[0.94415939 0.05584061]]\n",
      "Has theorem:  [[0.93987911 0.06012089]]\n",
      "Optimization terminated successfully.\n",
      "         Current function value: 0.610953\n",
      "         Iterations 5\n",
      "                           Logit Regression Results                           \n",
      "==============================================================================\n",
      "Dep. Variable:                      y   No. Observations:                 8514\n",
      "Model:                          Logit   Df Residuals:                     8511\n",
      "Method:                           MLE   Df Model:                            2\n",
      "Date:                Thu, 29 Jul 2021   Pseudo R-squ.:                  0.5993\n",
      "Time:                        14:25:00   Log-Likelihood:                -2093.4\n",
      "converged:                       True   LL-Null:                       -5224.2\n",
      "Covariance Type:            nonrobust   LLR p-value:                     0.000\n",
      "=======================================================================================\n",
      "                          coef    std err          z      P>|z|      [0.025      0.975]\n",
      "---------------------------------------------------------------------------------------\n",
      "mean reviewer score     3.0926      0.075     41.470      0.000       2.946       3.239\n",
      "theorem                 0.0518      0.085      0.609      0.542      -0.115       0.218\n",
      "constant              -18.3113      0.438    -41.795      0.000     -19.170     -17.453\n",
      "=======================================================================================\n",
      "Accuracy:  0.8888454011741683\n",
      "                           Logit Regression Results                           \n",
      "==============================================================================\n",
      "Dep. Variable:                      y   No. Observations:                 8514\n",
      "Model:                          Logit   Df Residuals:                     8512\n",
      "Method:                           MLE   Df Model:                            1\n",
      "Date:                Thu, 29 Jul 2021   Pseudo R-squ.:                0.004323\n",
      "Time:                        14:25:01   Log-Likelihood:                -5201.7\n",
      "converged:                       True   LL-Null:                       -5224.2\n",
      "Covariance Type:            nonrobust   LLR p-value:                 1.811e-11\n",
      "==============================================================================\n",
      "                 coef    std err          z      P>|z|      [0.025      0.975]\n",
      "------------------------------------------------------------------------------\n",
      "theorem        0.3497      0.052      6.767      0.000       0.248       0.451\n",
      "constant      -0.9317      0.028    -33.013      0.000      -0.987      -0.876\n",
      "==============================================================================\n",
      "Accuracy:  0.6986301369863014\n"
     ]
    }
   ],
   "source": [
    "summary, score = logistic_regression()\n",
    "print(summary)\n",
    "print('Accuracy: ', score)"
   ]
  }
 ],
 "metadata": {
  "interpreter": {
   "hash": "aee8b7b246df8f9039afb4144a1f6fd8d2ca17a180786b69acc140d282b71a49"
  },
  "kernelspec": {
   "display_name": "Python 3.9.1 64-bit",
   "name": "python3"
  },
  "language_info": {
   "codemirror_mode": {
    "name": "ipython",
    "version": 3
   },
   "file_extension": ".py",
   "mimetype": "text/x-python",
   "name": "python",
   "nbconvert_exporter": "python",
   "pygments_lexer": "ipython3",
   "version": "3.9.1"
  },
  "orig_nbformat": 4
 },
 "nbformat": 4,
 "nbformat_minor": 2
}
